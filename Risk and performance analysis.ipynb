{
 "cells": [
  {
   "cell_type": "markdown",
   "metadata": {},
   "source": [
    "## Performance and risk metric computations for active funds\n",
    "\n",
    "by DC LIM\n",
    "\n",
    "In this Jupyter notebook, we run through a basic analysis of performance and risk metric computations for active funds, e.g. Sharpe ratio, tracking error, VaR, max drawdown with monte carlo simulations and so on. We will also conduct factor analysis to deduce the fund manager's stock selection method. \n",
    "\n",
    "For this exercise, we use the \"Franklin DynaTech Fund Class A\" fund for analysis. One of the fund's benchmarks is the S&P 500 index, which we will also use to evaluate the fund's performance. Note that the computations can be done for any fund with returns data captured on Yahoo Finance. "
   ]
  },
  {
   "cell_type": "code",
   "execution_count": 43,
   "metadata": {},
   "outputs": [],
   "source": [
    "#import the relevant libraries\n",
    "import pandas as pd\n",
    "import numpy as np\n",
    "import matplotlib.pyplot as plt\n",
    "import scipy.stats as stats\n",
    "from scipy.optimize import minimize\n",
    "import empyrical as emp\n",
    "import statsmodels.api as sm\n",
    "import yfinance as yf\n",
    "import ipywidgets as widgets\n",
    "from IPython.display import display"
   ]
  },
  {
   "cell_type": "code",
   "execution_count": 44,
   "metadata": {},
   "outputs": [],
   "source": [
    "# Specify some parameters such as number of years of data to get and latest closing price that \n",
    "# will be used in subsequent calculations\n",
    "\n",
    "years = 20\n",
    "latest_closing_price = 120"
   ]
  },
  {
   "cell_type": "markdown",
   "metadata": {},
   "source": [
    "Get the returns data for both the fund and its benchmark index"
   ]
  },
  {
   "cell_type": "code",
   "execution_count": 3,
   "metadata": {},
   "outputs": [],
   "source": [
    "tickerSymbol = 'FKDNX'\n",
    "\n",
    "#get data on this ticker\n",
    "tickerData = yf.Ticker(tickerSymbol)\n",
    "\n",
    "#get the historical prices for this ticker over the last 20 years\n",
    "df = tickerData.history(period='1d', start='2000-8-30', end = '2020-8-30')"
   ]
  },
  {
   "cell_type": "code",
   "execution_count": 4,
   "metadata": {},
   "outputs": [],
   "source": [
    "tickerSymbol2 = '^GSPC'\n",
    "\n",
    "#get data on this ticker\n",
    "tickerData2 = yf.Ticker(tickerSymbol2)\n",
    "\n",
    "#get the historical prices for this ticker over the last 20 years\n",
    "df2 = tickerData2.history(period='1d', start='2000-8-30', end = '2020-8-30')"
   ]
  },
  {
   "cell_type": "code",
   "execution_count": 5,
   "metadata": {},
   "outputs": [
    {
     "data": {
      "text/html": [
       "<div>\n",
       "<style scoped>\n",
       "    .dataframe tbody tr th:only-of-type {\n",
       "        vertical-align: middle;\n",
       "    }\n",
       "\n",
       "    .dataframe tbody tr th {\n",
       "        vertical-align: top;\n",
       "    }\n",
       "\n",
       "    .dataframe thead th {\n",
       "        text-align: right;\n",
       "    }\n",
       "</style>\n",
       "<table border=\"1\" class=\"dataframe\">\n",
       "  <thead>\n",
       "    <tr style=\"text-align: right;\">\n",
       "      <th></th>\n",
       "      <th>Open</th>\n",
       "      <th>High</th>\n",
       "      <th>Low</th>\n",
       "      <th>Close</th>\n",
       "      <th>Volume</th>\n",
       "      <th>Dividends</th>\n",
       "      <th>Stock Splits</th>\n",
       "    </tr>\n",
       "    <tr>\n",
       "      <th>Date</th>\n",
       "      <th></th>\n",
       "      <th></th>\n",
       "      <th></th>\n",
       "      <th></th>\n",
       "      <th></th>\n",
       "      <th></th>\n",
       "      <th></th>\n",
       "    </tr>\n",
       "  </thead>\n",
       "  <tbody>\n",
       "    <tr>\n",
       "      <th>2000-08-29</th>\n",
       "      <td>21.32</td>\n",
       "      <td>21.32</td>\n",
       "      <td>21.32</td>\n",
       "      <td>21.32</td>\n",
       "      <td>0</td>\n",
       "      <td>0.0</td>\n",
       "      <td>0</td>\n",
       "    </tr>\n",
       "    <tr>\n",
       "      <th>2000-08-30</th>\n",
       "      <td>21.34</td>\n",
       "      <td>21.34</td>\n",
       "      <td>21.34</td>\n",
       "      <td>21.34</td>\n",
       "      <td>0</td>\n",
       "      <td>0.0</td>\n",
       "      <td>0</td>\n",
       "    </tr>\n",
       "    <tr>\n",
       "      <th>2000-08-31</th>\n",
       "      <td>21.57</td>\n",
       "      <td>21.57</td>\n",
       "      <td>21.57</td>\n",
       "      <td>21.57</td>\n",
       "      <td>0</td>\n",
       "      <td>0.0</td>\n",
       "      <td>0</td>\n",
       "    </tr>\n",
       "    <tr>\n",
       "      <th>2000-09-01</th>\n",
       "      <td>21.66</td>\n",
       "      <td>21.66</td>\n",
       "      <td>21.66</td>\n",
       "      <td>21.66</td>\n",
       "      <td>0</td>\n",
       "      <td>0.0</td>\n",
       "      <td>0</td>\n",
       "    </tr>\n",
       "    <tr>\n",
       "      <th>2000-09-05</th>\n",
       "      <td>21.35</td>\n",
       "      <td>21.35</td>\n",
       "      <td>21.35</td>\n",
       "      <td>21.35</td>\n",
       "      <td>0</td>\n",
       "      <td>0.0</td>\n",
       "      <td>0</td>\n",
       "    </tr>\n",
       "  </tbody>\n",
       "</table>\n",
       "</div>"
      ],
      "text/plain": [
       "             Open   High    Low  Close  Volume  Dividends  Stock Splits\n",
       "Date                                                                   \n",
       "2000-08-29  21.32  21.32  21.32  21.32       0        0.0             0\n",
       "2000-08-30  21.34  21.34  21.34  21.34       0        0.0             0\n",
       "2000-08-31  21.57  21.57  21.57  21.57       0        0.0             0\n",
       "2000-09-01  21.66  21.66  21.66  21.66       0        0.0             0\n",
       "2000-09-05  21.35  21.35  21.35  21.35       0        0.0             0"
      ]
     },
     "execution_count": 5,
     "metadata": {},
     "output_type": "execute_result"
    }
   ],
   "source": [
    "df.head()"
   ]
  },
  {
   "cell_type": "code",
   "execution_count": 6,
   "metadata": {},
   "outputs": [
    {
     "data": {
      "text/plain": [
       "Date\n",
       "2000-08-30    0.000938\n",
       "2000-08-31    0.010778\n",
       "2000-09-01    0.004172\n",
       "2000-09-05   -0.014312\n",
       "2000-09-06   -0.019672\n",
       "                ...   \n",
       "2020-08-24   -0.000417\n",
       "2020-08-25    0.011353\n",
       "2020-08-26    0.025093\n",
       "2020-08-27   -0.005637\n",
       "2020-08-28    0.005264\n",
       "Name: Close, Length: 5031, dtype: float64"
      ]
     },
     "execution_count": 6,
     "metadata": {},
     "output_type": "execute_result"
    }
   ],
   "source": [
    "# Get the daily returns from the changes in the daily closing prices\n",
    "rets = df[\"Close\"]\n",
    "rets = rets.pct_change()\n",
    "rets = rets.iloc[1:] \n",
    "rets"
   ]
  },
  {
   "cell_type": "code",
   "execution_count": 7,
   "metadata": {},
   "outputs": [
    {
     "data": {
      "text/plain": [
       "Date\n",
       "2000-08-30   -0.004802\n",
       "2000-08-31    0.010043\n",
       "2000-09-01    0.002036\n",
       "2000-09-05   -0.009002\n",
       "2000-09-06   -0.009840\n",
       "                ...   \n",
       "2020-08-24    0.010044\n",
       "2020-08-25    0.003596\n",
       "2020-08-26    0.010196\n",
       "2020-08-27    0.001673\n",
       "2020-08-28    0.006733\n",
       "Name: Close, Length: 5031, dtype: float64"
      ]
     },
     "execution_count": 7,
     "metadata": {},
     "output_type": "execute_result"
    }
   ],
   "source": [
    "# Compute the returns for the benchmark index using closing prices\n",
    "rets2 = df2[\"Close\"]\n",
    "rets2 = rets2.pct_change()\n",
    "rets2 = rets2.iloc[1:] \n",
    "rets2"
   ]
  },
  {
   "cell_type": "markdown",
   "metadata": {},
   "source": [
    "### Fund performance metrics"
   ]
  },
  {
   "cell_type": "code",
   "execution_count": 8,
   "metadata": {},
   "outputs": [
    {
     "data": {
      "text/plain": [
       "0.09225656555683792"
      ]
     },
     "execution_count": 8,
     "metadata": {},
     "output_type": "execute_result"
    }
   ],
   "source": [
    "# Calculate the annualised return over the entire period\n",
    "\n",
    "def annualise_rets(r, periods_per_year):\n",
    "    \"\"\"\n",
    "    Annualises a set of returns\n",
    "    \"\"\"\n",
    "    compounded_growth = (1+r).prod()\n",
    "    n_periods = r.shape[0]\n",
    "    return compounded_growth**(periods_per_year/n_periods)-1\n",
    "\n",
    "annual_return = annualise_rets(rets, 252)\n",
    "annual_return"
   ]
  },
  {
   "cell_type": "code",
   "execution_count": 9,
   "metadata": {},
   "outputs": [
    {
     "data": {
      "text/plain": [
       "0.04313194006545995"
      ]
     },
     "execution_count": 9,
     "metadata": {},
     "output_type": "execute_result"
    }
   ],
   "source": [
    "# Calculate the annualised return of the benchmark\n",
    "\n",
    "benchmark_return = annualise_rets(rets2, 252)\n",
    "benchmark_return"
   ]
  },
  {
   "cell_type": "code",
   "execution_count": 10,
   "metadata": {},
   "outputs": [
    {
     "data": {
      "text/plain": [
       "0.39728300255003"
      ]
     },
     "execution_count": 10,
     "metadata": {},
     "output_type": "execute_result"
    }
   ],
   "source": [
    "# Calculate the annualised Sharpe Ratio of the fund, assuming the risk free rate is 1%\n",
    "\n",
    "def sharpe_ratio(r, riskfree_rate, periods_per_year):\n",
    "    \"\"\"\n",
    "    Computes the annualized sharpe ratio of a set of returns\n",
    "    \"\"\"\n",
    "    # convert the annual riskfree rate to per period\n",
    "    rf_per_period = (1+riskfree_rate)**(1/periods_per_year)-1\n",
    "    excess_ret = r - rf_per_period\n",
    "    ann_ex_ret = annualise_rets(excess_ret, periods_per_year)\n",
    "    ann_vol = annualise_vol(r, periods_per_year)\n",
    "    return ann_ex_ret/ann_vol\n",
    "\n",
    "def annualise_vol(r, periods_per_year):\n",
    "    \"\"\"\n",
    "    Annualises the vol of a set of returns\n",
    "    \"\"\"\n",
    "    return r.std()*(periods_per_year**0.5)\n",
    "\n",
    "fund_sharpe_ratio = sharpe_ratio(rets, 0.01, 252)\n",
    "fund_sharpe_ratio"
   ]
  },
  {
   "cell_type": "code",
   "execution_count": 11,
   "metadata": {},
   "outputs": [
    {
     "data": {
      "text/plain": [
       "0.16546639417919418"
      ]
     },
     "execution_count": 11,
     "metadata": {},
     "output_type": "execute_result"
    }
   ],
   "source": [
    "# Calculate the annualised Sharpe Ratio of the benchmark, assuming the risk free rate is 1%\n",
    "benchmark_sharpe_ratio = sharpe_ratio(rets2, 0.01, 252)\n",
    "benchmark_sharpe_ratio"
   ]
  },
  {
   "cell_type": "code",
   "execution_count": 12,
   "metadata": {},
   "outputs": [
    {
     "data": {
      "text/plain": [
       "6.984070178219755"
      ]
     },
     "execution_count": 12,
     "metadata": {},
     "output_type": "execute_result"
    }
   ],
   "source": [
    "# Calculate the Treynor ratio of the fund, assuming a risk-free rate of 1%\n",
    "\n",
    "def beta(returns, market):\n",
    "    # Create a matrix of [returns, market]\n",
    "    m = np.matrix([returns, market])\n",
    "    # Return the covariance of m divided by the standard deviation of the market returns\n",
    "    return np.cov(m)[0][1] / np.std(market)\n",
    "\n",
    "fund_beta = beta(np.array(rets), np.array(rets2))\n",
    "\n",
    "fund_treynor_ratio = (annual_return - 0.01)/fund_beta\n",
    "fund_treynor_ratio"
   ]
  },
  {
   "cell_type": "code",
   "execution_count": 13,
   "metadata": {},
   "outputs": [
    {
     "data": {
      "text/plain": [
       "0.03313194006545995"
      ]
     },
     "execution_count": 13,
     "metadata": {},
     "output_type": "execute_result"
    }
   ],
   "source": [
    "# Calculate the Treynor ratio of the benchmark, assuming a risk-free rate of 1%\n",
    "\n",
    "benchmark_treynor_ratio = (benchmark_return - 0.01)/1\n",
    "benchmark_treynor_ratio"
   ]
  },
  {
   "cell_type": "code",
   "execution_count": 14,
   "metadata": {},
   "outputs": [
    {
     "data": {
      "text/plain": [
       "-1.046854663386573"
      ]
     },
     "execution_count": 14,
     "metadata": {},
     "output_type": "execute_result"
    }
   ],
   "source": [
    "# Calculate the Sortino ratio of the fund, assuming a risk-free rate of 1%\n",
    "\n",
    "def sortino_ratio(returns, risk_free_rate = 0, target=0):\n",
    "    \"\"\"\n",
    "    Takes a set of returns with type series, calculate the downside deviation of the expected returns \n",
    "    by taking the difference between each period’s return and the target return. If a period’s return is \n",
    "    greater than the target return, the difference is set to 0. Then, we square the value of the \n",
    "    difference. Next, we calculate the average of all squared differences. The square root of the average \n",
    "    is the downside deviation.\n",
    "    \"\"\"\n",
    "    df = pd.DataFrame(returns)\n",
    "    df['downside_returns'] = 0\n",
    "    df.loc[df[df.columns[0]] < target, 'downside_returns'] = df[df.columns[0]]**2\n",
    "    expected_return = df[df.columns[0]].mean()\n",
    "    down_stdev = np.sqrt(df['downside_returns'].mean())\n",
    "    sortino_ratio = (expected_return - risk_free_rate)/down_stdev\n",
    "    return sortino_ratio\n",
    "    \n",
    "fund_sortino_ratio = sortino_ratio(rets, 0.01, 0)\n",
    "fund_sortino_ratio"
   ]
  },
  {
   "cell_type": "code",
   "execution_count": 15,
   "metadata": {},
   "outputs": [
    {
     "data": {
      "text/plain": [
       "-1.093974888771736"
      ]
     },
     "execution_count": 15,
     "metadata": {},
     "output_type": "execute_result"
    }
   ],
   "source": [
    "# Calculate the Sortino ratio of the benchmark, assuming a risk-free rate of 1%\n",
    "benchmark_sortino_ratio = sortino_ratio(rets2, 0.01, 0)\n",
    "benchmark_sortino_ratio"
   ]
  },
  {
   "cell_type": "markdown",
   "metadata": {},
   "source": [
    "The fund returns a good 10.3% over 20 years, compared to 4.8% for the benchmark index. In terms of various risk-adjusted return metrics, it also fares better than the benchmark, in particular for the Treynor ratio."
   ]
  },
  {
   "cell_type": "markdown",
   "metadata": {},
   "source": [
    "### Fund risk metrics"
   ]
  },
  {
   "cell_type": "code",
   "execution_count": 16,
   "metadata": {},
   "outputs": [
    {
     "data": {
      "text/plain": [
       "0.20500395377284455"
      ]
     },
     "execution_count": 16,
     "metadata": {},
     "output_type": "execute_result"
    }
   ],
   "source": [
    "# Calculate the annualised volatility over the entire period\n",
    "annual_vol = annualise_vol(rets, 252)\n",
    "annual_vol"
   ]
  },
  {
   "cell_type": "code",
   "execution_count": 29,
   "metadata": {},
   "outputs": [
    {
     "data": {
      "text/plain": [
       "-0.5044247787610621"
      ]
     },
     "execution_count": 29,
     "metadata": {},
     "output_type": "execute_result"
    }
   ],
   "source": [
    "# Calculate the max drawdown\n",
    "Max_drawdown = emp.max_drawdown(rets)\n",
    "Max_drawdown"
   ]
  },
  {
   "cell_type": "code",
   "execution_count": 162,
   "metadata": {},
   "outputs": [
    {
     "data": {
      "text/plain": [
       "0.020085071629639795"
      ]
     },
     "execution_count": 162,
     "metadata": {},
     "output_type": "execute_result"
    }
   ],
   "source": [
    "# Calculate the Value at Risk of the fund (reflected as a positive number)\n",
    "\n",
    "def var_historic(r, level=5):\n",
    "    \"\"\"\n",
    "    Returns the historic Value at Risk at a specified level\n",
    "    i.e. returns the number such that \"level\" percent of the returns\n",
    "    fall below that number, and the (100-level) percent are above\n",
    "    \"\"\"\n",
    "    if isinstance(r, pd.DataFrame):\n",
    "        return r.aggregate(var_historic, level=level)\n",
    "    elif isinstance(r, pd.Series):\n",
    "        return -np.percentile(r, level)\n",
    "    else:\n",
    "        raise TypeError(\"Expected r to be a Series or DataFrame\")\n",
    "\n",
    "\n",
    "VaR = var_historic(rets, level = 5)\n",
    "VaR"
   ]
  },
  {
   "cell_type": "code",
   "execution_count": 152,
   "metadata": {},
   "outputs": [
    {
     "data": {
      "text/plain": [
       "0.029874830197363263"
      ]
     },
     "execution_count": 152,
     "metadata": {},
     "output_type": "execute_result"
    }
   ],
   "source": [
    "# Calculate the Conditional Value at Risk of the fund (reflected as a positive number)\n",
    "\n",
    "def cvar_historic(r, level=5):\n",
    "    \"\"\"\n",
    "    Computes the Conditional VaR of Series or DataFrame\n",
    "    \"\"\"\n",
    "    if isinstance(r, pd.Series):\n",
    "        is_beyond = r <= -var_historic(r, level=level)\n",
    "        return -r[is_beyond].mean()\n",
    "    elif isinstance(r, pd.DataFrame):\n",
    "        return r.aggregate(cvar_historic, level=level)\n",
    "    else:\n",
    "        raise TypeError(\"Expected r to be a Series or DataFrame\")\n",
    "        \n",
    "CVaR = cvar_historic(rets, level = 5)\n",
    "CVaR"
   ]
  },
  {
   "cell_type": "markdown",
   "metadata": {},
   "source": [
    "On any given day, there is a 5% chance that the fund would lose 2%, and in worse cases beyond that, the losses would average 3%."
   ]
  },
  {
   "cell_type": "code",
   "execution_count": null,
   "metadata": {},
   "outputs": [],
   "source": [
    "# Calculate tracking error of the fund compared to the benchmark\n",
    "\n",
    "\n",
    "tr = np.sqrt(((1/years)*(rets - rets2)**2).sum())\n",
    "tr"
   ]
  },
  {
   "cell_type": "markdown",
   "metadata": {},
   "source": [
    "Tracking error of 8.49% is rather large, indicating substantial active management by the fund manager."
   ]
  },
  {
   "cell_type": "markdown",
   "metadata": {},
   "source": [
    "### Monte Carlo simulation of risk metrics"
   ]
  },
  {
   "cell_type": "markdown",
   "metadata": {},
   "source": [
    "Here, we generate monte carlo simulations of the fund's prices over the next x years with n scenarios, coupled with the corresponding VaR computation for each scenario. The VaR estimates across the n scenarios are then compiled and reflected in a histogram."
   ]
  },
  {
   "cell_type": "code",
   "execution_count": 214,
   "metadata": {},
   "outputs": [
    {
     "data": {
      "application/vnd.jupyter.widget-view+json": {
       "model_id": "0e3e68a4032249b8859dcffe5d44d393",
       "version_major": 2,
       "version_minor": 0
      },
      "text/plain": [
       "interactive(children=(IntSlider(value=500, description='n_scenarios', max=10000, min=1, step=100), IntSlider(v…"
      ]
     },
     "metadata": {},
     "output_type": "display_data"
    }
   ],
   "source": [
    "def return_var(n_scenarios=1000, x_years = 10, mu=0.05, sigma=0.3, level = 5, y_max = 100, steps_per_year=252):\n",
    "    \"\"\"\n",
    "    Draw the results of a stock price evolution under a Geometric Brownian Motion model, where mu is the annualised \n",
    "    expected return (drift), sigma the stock price volatility. VaR will be computed for each scenario. \n",
    "    \"\"\"\n",
    "    \n",
    "    def gbm(x_years = 10, n_scenarios=1000, mu=0.05, sigma=0.3, steps_per_year=252, start = latest_closing_price):\n",
    "        \n",
    "        \"\"\"\n",
    "        Evolution of Geometric Brownian Motion trajectories, such as for Stock Prices through Monte Carlo\n",
    "        :param x_years:  The number of years to generate data for\n",
    "        :param n_paths: The number of scenarios/trajectories\n",
    "        :param mu: Annualized Drift, e.g. Market Return\n",
    "        :param sigma: Annualized Volatility\n",
    "        :return: a numpy array of n_paths columns and n_years*steps_per_year rows\n",
    "        \"\"\"\n",
    "        \n",
    "        dt = 1/steps_per_year\n",
    "        n_steps = int(x_years*steps_per_year) + 1\n",
    "        # the standard way ...\n",
    "        # rets_plus_1 = np.random.normal(loc=mu*dt+1, scale=sigma*np.sqrt(dt), size=(n_steps, n_scenarios))\n",
    "        # without discretization error ...\n",
    "        rets_plus_1 = np.random.normal(loc=(1+mu)**dt, scale=(sigma*np.sqrt(dt)), size=(n_steps, n_scenarios))\n",
    "        rets_plus_1[0] = 1\n",
    "        ret_val = start*pd.DataFrame(rets_plus_1).cumprod() \n",
    "        returns = pd.DataFrame(rets_plus_1-1)\n",
    "        return ret_val, returns\n",
    "    \n",
    "    start = latest_closing_price\n",
    "    model = gbm(x_years = x_years, n_scenarios=n_scenarios, mu=mu, sigma=sigma, steps_per_year = steps_per_year)\n",
    "    prices = model[0]\n",
    "    gbm_rets = model[1]\n",
    "    var = var_historic(gbm_rets, level)\n",
    "    \n",
    "    # Plot the timeseries for prices and a histogram for VaR side by side\n",
    "    fig, (prices_ax, var_ax) = plt.subplots(nrows=1, ncols=2, sharey=False, gridspec_kw={'width_ratios':[3,2]}, figsize=(30, 12))\n",
    "    plt.subplots_adjust(wspace=0.0)\n",
    "    \n",
    "    # Plot the timeseries for prices\n",
    "    prices.plot(ax=prices_ax, color=\"blue\", legend = False, alpha = 0.5, linewidth=2, fontsize = 18)\n",
    "    prices_ax.set_title('Price changes over time', fontsize = 24)\n",
    "    prices_ax.axhline(y=100, ls=\":\", color=\"black\")\n",
    "    y_max = prices.values.max()*y_max/100\n",
    "        \n",
    "    # Plot a histogram for VaR as an inset axes over the main axes\n",
    "    var.plot.hist(ax=var_ax, ec='w', color = \"indianred\", orientation='vertical', fontsize = 18)\n",
    "    var_ax.set_title('VaR histogram', fontsize=24)\n",
    "    \n",
    "rv_controls = widgets.interactive(return_var,\n",
    "                                   x_years = (0, 20, 1),\n",
    "                                   n_scenarios=widgets.IntSlider(min=1, max=10000, step=100, value=500), \n",
    "                                   mu=(-0.2, +.2, .01),\n",
    "                                   sigma=(0, .5, .05),\n",
    "                                   level = (0, 20, 1),\n",
    "                                   steps_per_year = (0, 252, 1),\n",
    "                                   y_max=widgets.IntSlider(min=0, max=100, step=1, value=50,\n",
    "                                                          description = \"Zoom Y Axis\")\n",
    ")\n",
    "display(rv_controls)"
   ]
  },
  {
   "cell_type": "markdown",
   "metadata": {},
   "source": [
    "Here, we generate monte carlo simulations of the fund's prices over the next x years with n scenarios, coupled with the corresponding max drawdown computation for each scenario. The max drawdown estimates across the n scenarios are then compiled and reflected in a histogram."
   ]
  },
  {
   "cell_type": "code",
   "execution_count": 218,
   "metadata": {},
   "outputs": [
    {
     "data": {
      "application/vnd.jupyter.widget-view+json": {
       "model_id": "0f1274c677d14dee986a1a6d2e9dd140",
       "version_major": 2,
       "version_minor": 0
      },
      "text/plain": [
       "interactive(children=(IntSlider(value=500, description='n_scenarios', max=10000, min=1, step=100), IntSlider(v…"
      ]
     },
     "metadata": {},
     "output_type": "display_data"
    }
   ],
   "source": [
    "def return_maxdd(n_scenarios=1000, x_years = 10, mu=0.05, sigma=0.15, y_max = 100, steps_per_year=252):\n",
    "    \"\"\"\n",
    "    Draw the results of a stock price evolution under a Geometric Brownian Motion model, where mu is the annualised \n",
    "    expected return (drift), sigma the stock price volatility. Max drawdown will be computed for each scenario. \n",
    "    \"\"\"\n",
    "    \n",
    "    def gbm(x_years = 10, n_scenarios=1000, mu=0.05, sigma=0.15, steps_per_year=252, start = latest_closing_price):\n",
    "        \n",
    "        \"\"\"\n",
    "        Evolution of Geometric Brownian Motion trajectories, such as for Stock Prices through Monte Carlo\n",
    "        :param x_years:  The number of years to generate data for\n",
    "        :param n_paths: The number of scenarios/trajectories\n",
    "        :param mu: Annualized Drift, e.g. Market Return\n",
    "        :param sigma: Annualized Volatility\n",
    "        :return: a numpy array of n_paths columns and n_years*steps_per_year rows\n",
    "        \"\"\"\n",
    "        \n",
    "        dt = 1/steps_per_year\n",
    "        n_steps = int(x_years*steps_per_year) + 1\n",
    "        # the standard way ...\n",
    "        # rets_plus_1 = np.random.normal(loc=mu*dt+1, scale=sigma*np.sqrt(dt), size=(n_steps, n_scenarios))\n",
    "        # without discretization error ...\n",
    "        rets_plus_1 = np.random.normal(loc=(1+mu)**dt, scale=(sigma*np.sqrt(dt)), size=(n_steps, n_scenarios))\n",
    "        rets_plus_1[0] = 1\n",
    "        ret_val = start*pd.DataFrame(rets_plus_1).cumprod() \n",
    "        returns = pd.DataFrame(rets_plus_1-1)\n",
    "        return ret_val, returns\n",
    "    \n",
    "    start = latest_closing_price\n",
    "    model = gbm(x_years = x_years, n_scenarios=n_scenarios, mu=mu, sigma=sigma, steps_per_year = steps_per_year)\n",
    "    prices = model[0]\n",
    "    gbm_rets = model[1]\n",
    "    maxdd = emp.max_drawdown(gbm_rets)\n",
    "    \n",
    "    # Plot the timeseries for prices and a histogram for VaR side by side\n",
    "    fig, (prices_ax, maxdd_ax) = plt.subplots(nrows=1, ncols=2, sharey=False, gridspec_kw={'width_ratios':[3,2]}, \n",
    "                                              figsize=(30, 12))\n",
    "    plt.subplots_adjust(wspace=0.0)\n",
    "    \n",
    "    # Plot the timeseries for prices\n",
    "    prices.plot(ax=prices_ax, color=\"blue\", legend = False, alpha = 0.5, linewidth=2, fontsize = 18)\n",
    "    prices_ax.set_title('Price changes over time', fontsize = 24)\n",
    "    prices_ax.axhline(y=100, ls=\":\", color=\"black\")\n",
    "    y_max = prices.values.max()*y_max/100\n",
    "        \n",
    "    # Plot a histogram for VaR as an inset axes over the main axes\n",
    "    maxdd.plot.hist(ax=maxdd_ax, ec='w', color = \"indianred\", orientation='vertical', fontsize = 18)\n",
    "    maxdd_ax.set_title('Max drawdown histogram', fontsize=24)\n",
    "    \n",
    "ret_maxdd_controls = widgets.interactive(return_maxdd,\n",
    "                                   x_years = (0, 20, 1),\n",
    "                                   n_scenarios=widgets.IntSlider(min=1, max=10000, step=100, value=500), \n",
    "                                   mu=(-0.2, +.2, .01),\n",
    "                                   sigma=(0, .5, .05),\n",
    "                                   steps_per_year = (0, 252, 1),\n",
    "                                   y_max=widgets.IntSlider(min=0, max=100, step=1, value=50,\n",
    "                                                          description = \"Zoom Y Axis\")\n",
    ")\n",
    "display(ret_maxdd_controls)"
   ]
  },
  {
   "cell_type": "markdown",
   "metadata": {},
   "source": [
    "### Applying factor analysis to the fund returns"
   ]
  },
  {
   "cell_type": "markdown",
   "metadata": {},
   "source": [
    "We conduct factor analysis by regressing the returns of the fund against the returns of the Fama/French 5 factor model. Data for the latter is obtained from the website of Kenneth R. French.\n",
    "\n",
    "The Fama/French 5 factors (2x3) are constructed using the 6 value-weight portfolios formed on size and book-to-market, the 6 value-weight portfolios formed on size and operating profitability, and the 6 value-weight portfolios formed on size and investment. (See the description of the 6 size/book-to-market, size/operating profitability, size/investment portfolios in the link below.)\n",
    "\n",
    "http://mba.tuck.dartmouth.edu/pages/faculty/ken.french/Data_Library/f-f_5_factors_2x3.html "
   ]
  },
  {
   "cell_type": "code",
   "execution_count": 326,
   "metadata": {},
   "outputs": [],
   "source": [
    "# Read in the FF data\n",
    "\n",
    "ff = pd.read_csv(\"data/F-F_Research_Data_5_Factors_2x3_daily.csv\", parse_dates=True, header=0, index_col=0)\n",
    "ff.index = pd.to_datetime(ff.index, format=\"%Y%m%d\").to_period('D')\n",
    "ff = ff['2000-8-30':'2020-8-30']/100"
   ]
  },
  {
   "cell_type": "code",
   "execution_count": 289,
   "metadata": {},
   "outputs": [
    {
     "data": {
      "text/html": [
       "<div>\n",
       "<style scoped>\n",
       "    .dataframe tbody tr th:only-of-type {\n",
       "        vertical-align: middle;\n",
       "    }\n",
       "\n",
       "    .dataframe tbody tr th {\n",
       "        vertical-align: top;\n",
       "    }\n",
       "\n",
       "    .dataframe thead th {\n",
       "        text-align: right;\n",
       "    }\n",
       "</style>\n",
       "<table border=\"1\" class=\"dataframe\">\n",
       "  <thead>\n",
       "    <tr style=\"text-align: right;\">\n",
       "      <th></th>\n",
       "      <th>Mkt-RF</th>\n",
       "      <th>SMB</th>\n",
       "      <th>HML</th>\n",
       "      <th>RMW</th>\n",
       "      <th>CMA</th>\n",
       "      <th>RF</th>\n",
       "    </tr>\n",
       "  </thead>\n",
       "  <tbody>\n",
       "    <tr>\n",
       "      <th>2000-08-30</th>\n",
       "      <td>-0.0011</td>\n",
       "      <td>0.0056</td>\n",
       "      <td>0.0015</td>\n",
       "      <td>-0.0105</td>\n",
       "      <td>-0.0012</td>\n",
       "      <td>0.00022</td>\n",
       "    </tr>\n",
       "    <tr>\n",
       "      <th>2000-08-31</th>\n",
       "      <td>0.0119</td>\n",
       "      <td>0.0000</td>\n",
       "      <td>-0.0057</td>\n",
       "      <td>-0.0049</td>\n",
       "      <td>-0.0025</td>\n",
       "      <td>0.00022</td>\n",
       "    </tr>\n",
       "    <tr>\n",
       "      <th>2000-09-01</th>\n",
       "      <td>0.0038</td>\n",
       "      <td>0.0014</td>\n",
       "      <td>-0.0037</td>\n",
       "      <td>-0.0053</td>\n",
       "      <td>-0.0013</td>\n",
       "      <td>0.00025</td>\n",
       "    </tr>\n",
       "    <tr>\n",
       "      <th>2000-09-05</th>\n",
       "      <td>-0.0097</td>\n",
       "      <td>0.0031</td>\n",
       "      <td>0.0131</td>\n",
       "      <td>0.0037</td>\n",
       "      <td>0.0055</td>\n",
       "      <td>0.00025</td>\n",
       "    </tr>\n",
       "    <tr>\n",
       "      <th>2000-09-06</th>\n",
       "      <td>-0.0123</td>\n",
       "      <td>0.0048</td>\n",
       "      <td>0.0201</td>\n",
       "      <td>0.0111</td>\n",
       "      <td>0.0096</td>\n",
       "      <td>0.00025</td>\n",
       "    </tr>\n",
       "  </tbody>\n",
       "</table>\n",
       "</div>"
      ],
      "text/plain": [
       "            Mkt-RF     SMB     HML     RMW     CMA       RF\n",
       "2000-08-30 -0.0011  0.0056  0.0015 -0.0105 -0.0012  0.00022\n",
       "2000-08-31  0.0119  0.0000 -0.0057 -0.0049 -0.0025  0.00022\n",
       "2000-09-01  0.0038  0.0014 -0.0037 -0.0053 -0.0013  0.00025\n",
       "2000-09-05 -0.0097  0.0031  0.0131  0.0037  0.0055  0.00025\n",
       "2000-09-06 -0.0123  0.0048  0.0201  0.0111  0.0096  0.00025"
      ]
     },
     "execution_count": 289,
     "metadata": {},
     "output_type": "execute_result"
    }
   ],
   "source": [
    "ff.head()"
   ]
  },
  {
   "cell_type": "code",
   "execution_count": 327,
   "metadata": {},
   "outputs": [
    {
     "data": {
      "text/html": [
       "<div>\n",
       "<style scoped>\n",
       "    .dataframe tbody tr th:only-of-type {\n",
       "        vertical-align: middle;\n",
       "    }\n",
       "\n",
       "    .dataframe tbody tr th {\n",
       "        vertical-align: top;\n",
       "    }\n",
       "\n",
       "    .dataframe thead th {\n",
       "        text-align: right;\n",
       "    }\n",
       "</style>\n",
       "<table border=\"1\" class=\"dataframe\">\n",
       "  <thead>\n",
       "    <tr style=\"text-align: right;\">\n",
       "      <th></th>\n",
       "      <th>Mkt-RF</th>\n",
       "      <th>Size</th>\n",
       "      <th>Value</th>\n",
       "      <th>Profitability</th>\n",
       "      <th>Investment</th>\n",
       "      <th>RF</th>\n",
       "    </tr>\n",
       "  </thead>\n",
       "  <tbody>\n",
       "    <tr>\n",
       "      <th>2000-08-30</th>\n",
       "      <td>-0.0011</td>\n",
       "      <td>0.0056</td>\n",
       "      <td>0.0015</td>\n",
       "      <td>-0.0105</td>\n",
       "      <td>-0.0012</td>\n",
       "      <td>1</td>\n",
       "    </tr>\n",
       "    <tr>\n",
       "      <th>2000-08-31</th>\n",
       "      <td>0.0119</td>\n",
       "      <td>0.0000</td>\n",
       "      <td>-0.0057</td>\n",
       "      <td>-0.0049</td>\n",
       "      <td>-0.0025</td>\n",
       "      <td>1</td>\n",
       "    </tr>\n",
       "    <tr>\n",
       "      <th>2000-09-01</th>\n",
       "      <td>0.0038</td>\n",
       "      <td>0.0014</td>\n",
       "      <td>-0.0037</td>\n",
       "      <td>-0.0053</td>\n",
       "      <td>-0.0013</td>\n",
       "      <td>1</td>\n",
       "    </tr>\n",
       "    <tr>\n",
       "      <th>2000-09-05</th>\n",
       "      <td>-0.0097</td>\n",
       "      <td>0.0031</td>\n",
       "      <td>0.0131</td>\n",
       "      <td>0.0037</td>\n",
       "      <td>0.0055</td>\n",
       "      <td>1</td>\n",
       "    </tr>\n",
       "    <tr>\n",
       "      <th>2000-09-06</th>\n",
       "      <td>-0.0123</td>\n",
       "      <td>0.0048</td>\n",
       "      <td>0.0201</td>\n",
       "      <td>0.0111</td>\n",
       "      <td>0.0096</td>\n",
       "      <td>1</td>\n",
       "    </tr>\n",
       "    <tr>\n",
       "      <th>...</th>\n",
       "      <td>...</td>\n",
       "      <td>...</td>\n",
       "      <td>...</td>\n",
       "      <td>...</td>\n",
       "      <td>...</td>\n",
       "      <td>...</td>\n",
       "    </tr>\n",
       "    <tr>\n",
       "      <th>2020-08-24</th>\n",
       "      <td>0.0092</td>\n",
       "      <td>0.0022</td>\n",
       "      <td>0.0258</td>\n",
       "      <td>0.0108</td>\n",
       "      <td>0.0061</td>\n",
       "      <td>1</td>\n",
       "    </tr>\n",
       "    <tr>\n",
       "      <th>2020-08-25</th>\n",
       "      <td>0.0036</td>\n",
       "      <td>-0.0001</td>\n",
       "      <td>-0.0063</td>\n",
       "      <td>-0.0045</td>\n",
       "      <td>-0.0069</td>\n",
       "      <td>1</td>\n",
       "    </tr>\n",
       "    <tr>\n",
       "      <th>2020-08-26</th>\n",
       "      <td>0.0101</td>\n",
       "      <td>-0.0166</td>\n",
       "      <td>-0.0174</td>\n",
       "      <td>-0.0009</td>\n",
       "      <td>-0.0084</td>\n",
       "      <td>1</td>\n",
       "    </tr>\n",
       "    <tr>\n",
       "      <th>2020-08-27</th>\n",
       "      <td>0.0018</td>\n",
       "      <td>-0.0003</td>\n",
       "      <td>0.0099</td>\n",
       "      <td>0.0055</td>\n",
       "      <td>-0.0046</td>\n",
       "      <td>1</td>\n",
       "    </tr>\n",
       "    <tr>\n",
       "      <th>2020-08-28</th>\n",
       "      <td>0.0070</td>\n",
       "      <td>0.0040</td>\n",
       "      <td>-0.0021</td>\n",
       "      <td>0.0016</td>\n",
       "      <td>-0.0009</td>\n",
       "      <td>1</td>\n",
       "    </tr>\n",
       "  </tbody>\n",
       "</table>\n",
       "<p>5031 rows × 6 columns</p>\n",
       "</div>"
      ],
      "text/plain": [
       "            Mkt-RF    Size   Value  Profitability  Investment  RF\n",
       "2000-08-30 -0.0011  0.0056  0.0015        -0.0105     -0.0012   1\n",
       "2000-08-31  0.0119  0.0000 -0.0057        -0.0049     -0.0025   1\n",
       "2000-09-01  0.0038  0.0014 -0.0037        -0.0053     -0.0013   1\n",
       "2000-09-05 -0.0097  0.0031  0.0131         0.0037      0.0055   1\n",
       "2000-09-06 -0.0123  0.0048  0.0201         0.0111      0.0096   1\n",
       "...            ...     ...     ...            ...         ...  ..\n",
       "2020-08-24  0.0092  0.0022  0.0258         0.0108      0.0061   1\n",
       "2020-08-25  0.0036 -0.0001 -0.0063        -0.0045     -0.0069   1\n",
       "2020-08-26  0.0101 -0.0166 -0.0174        -0.0009     -0.0084   1\n",
       "2020-08-27  0.0018 -0.0003  0.0099         0.0055     -0.0046   1\n",
       "2020-08-28  0.0070  0.0040 -0.0021         0.0016     -0.0009   1\n",
       "\n",
       "[5031 rows x 6 columns]"
      ]
     },
     "execution_count": 327,
     "metadata": {},
     "output_type": "execute_result"
    }
   ],
   "source": [
    "# Calculate the excess returns of the fund over the risk free rate\n",
    "fund_excess = np.array(rets - ff['RF'].values)\n",
    "\n",
    "# Create a dataframe with the excess returns and the factors from the ff dataset\n",
    "ff[\"Constant\"] = 1\n",
    "ff = ff.drop('RF', axis = 1)\n",
    "ff.columns = [\"Mkt-RF\", \"Size\", \"Value\", \"Profitability\", \"Investment\", \"RF\"]\n",
    "ff"
   ]
  },
  {
   "cell_type": "code",
   "execution_count": 319,
   "metadata": {},
   "outputs": [
    {
     "data": {
      "text/html": [
       "<div>\n",
       "<style scoped>\n",
       "    .dataframe tbody tr th:only-of-type {\n",
       "        vertical-align: middle;\n",
       "    }\n",
       "\n",
       "    .dataframe tbody tr th {\n",
       "        vertical-align: top;\n",
       "    }\n",
       "\n",
       "    .dataframe thead th {\n",
       "        text-align: right;\n",
       "    }\n",
       "</style>\n",
       "<table border=\"1\" class=\"dataframe\">\n",
       "  <thead>\n",
       "    <tr style=\"text-align: right;\">\n",
       "      <th></th>\n",
       "      <th>Close</th>\n",
       "    </tr>\n",
       "    <tr>\n",
       "      <th>Date</th>\n",
       "      <th></th>\n",
       "    </tr>\n",
       "  </thead>\n",
       "  <tbody>\n",
       "    <tr>\n",
       "      <th>2000-08-30</th>\n",
       "      <td>0.000718</td>\n",
       "    </tr>\n",
       "    <tr>\n",
       "      <th>2000-08-31</th>\n",
       "      <td>0.010558</td>\n",
       "    </tr>\n",
       "    <tr>\n",
       "      <th>2000-09-01</th>\n",
       "      <td>0.003922</td>\n",
       "    </tr>\n",
       "    <tr>\n",
       "      <th>2000-09-05</th>\n",
       "      <td>-0.014562</td>\n",
       "    </tr>\n",
       "    <tr>\n",
       "      <th>2000-09-06</th>\n",
       "      <td>-0.019922</td>\n",
       "    </tr>\n",
       "    <tr>\n",
       "      <th>...</th>\n",
       "      <td>...</td>\n",
       "    </tr>\n",
       "    <tr>\n",
       "      <th>2020-08-24</th>\n",
       "      <td>-0.000417</td>\n",
       "    </tr>\n",
       "    <tr>\n",
       "      <th>2020-08-25</th>\n",
       "      <td>0.011353</td>\n",
       "    </tr>\n",
       "    <tr>\n",
       "      <th>2020-08-26</th>\n",
       "      <td>0.025093</td>\n",
       "    </tr>\n",
       "    <tr>\n",
       "      <th>2020-08-27</th>\n",
       "      <td>-0.005637</td>\n",
       "    </tr>\n",
       "    <tr>\n",
       "      <th>2020-08-28</th>\n",
       "      <td>0.005264</td>\n",
       "    </tr>\n",
       "  </tbody>\n",
       "</table>\n",
       "<p>5031 rows × 1 columns</p>\n",
       "</div>"
      ],
      "text/plain": [
       "               Close\n",
       "Date                \n",
       "2000-08-30  0.000718\n",
       "2000-08-31  0.010558\n",
       "2000-09-01  0.003922\n",
       "2000-09-05 -0.014562\n",
       "2000-09-06 -0.019922\n",
       "...              ...\n",
       "2020-08-24 -0.000417\n",
       "2020-08-25  0.011353\n",
       "2020-08-26  0.025093\n",
       "2020-08-27 -0.005637\n",
       "2020-08-28  0.005264\n",
       "\n",
       "[5031 rows x 1 columns]"
      ]
     },
     "execution_count": 319,
     "metadata": {},
     "output_type": "execute_result"
    }
   ],
   "source": [
    "fund_excess"
   ]
  },
  {
   "cell_type": "code",
   "execution_count": 333,
   "metadata": {},
   "outputs": [
    {
     "data": {
      "text/html": [
       "<table class=\"simpletable\">\n",
       "<caption>OLS Regression Results</caption>\n",
       "<tr>\n",
       "  <th>Dep. Variable:</th>            <td>y</td>        <th>  R-squared:         </th>  <td>   0.900</td> \n",
       "</tr>\n",
       "<tr>\n",
       "  <th>Model:</th>                   <td>OLS</td>       <th>  Adj. R-squared:    </th>  <td>   0.900</td> \n",
       "</tr>\n",
       "<tr>\n",
       "  <th>Method:</th>             <td>Least Squares</td>  <th>  F-statistic:       </th>  <td>   9016.</td> \n",
       "</tr>\n",
       "<tr>\n",
       "  <th>Date:</th>             <td>Sun, 04 Oct 2020</td> <th>  Prob (F-statistic):</th>   <td>  0.00</td>  \n",
       "</tr>\n",
       "<tr>\n",
       "  <th>Time:</th>                 <td>14:58:53</td>     <th>  Log-Likelihood:    </th>  <td>  20528.</td> \n",
       "</tr>\n",
       "<tr>\n",
       "  <th>No. Observations:</th>      <td>  5031</td>      <th>  AIC:               </th> <td>-4.104e+04</td>\n",
       "</tr>\n",
       "<tr>\n",
       "  <th>Df Residuals:</th>          <td>  5025</td>      <th>  BIC:               </th> <td>-4.100e+04</td>\n",
       "</tr>\n",
       "<tr>\n",
       "  <th>Df Model:</th>              <td>     5</td>      <th>                     </th>      <td> </td>    \n",
       "</tr>\n",
       "<tr>\n",
       "  <th>Covariance Type:</th>      <td>nonrobust</td>    <th>                     </th>      <td> </td>    \n",
       "</tr>\n",
       "</table>\n",
       "<table class=\"simpletable\">\n",
       "<tr>\n",
       "        <td></td>           <th>coef</th>     <th>std err</th>      <th>t</th>      <th>P>|t|</th>  <th>[0.025</th>    <th>0.975]</th>  \n",
       "</tr>\n",
       "<tr>\n",
       "  <th>Mkt-RF</th>        <td>    0.9361</td> <td>    0.005</td> <td>  180.080</td> <td> 0.000</td> <td>    0.926</td> <td>    0.946</td>\n",
       "</tr>\n",
       "<tr>\n",
       "  <th>Size</th>          <td>    0.1192</td> <td>    0.010</td> <td>   11.765</td> <td> 0.000</td> <td>    0.099</td> <td>    0.139</td>\n",
       "</tr>\n",
       "<tr>\n",
       "  <th>Value</th>         <td>   -0.3332</td> <td>    0.009</td> <td>  -35.763</td> <td> 0.000</td> <td>   -0.351</td> <td>   -0.315</td>\n",
       "</tr>\n",
       "<tr>\n",
       "  <th>Profitability</th> <td>   -0.1885</td> <td>    0.013</td> <td>  -14.197</td> <td> 0.000</td> <td>   -0.215</td> <td>   -0.162</td>\n",
       "</tr>\n",
       "<tr>\n",
       "  <th>Investment</th>    <td>   -0.0974</td> <td>    0.017</td> <td>   -5.827</td> <td> 0.000</td> <td>   -0.130</td> <td>   -0.065</td>\n",
       "</tr>\n",
       "<tr>\n",
       "  <th>RF</th>            <td>    0.0002</td> <td> 5.78e-05</td> <td>    2.839</td> <td> 0.005</td> <td> 5.08e-05</td> <td>    0.000</td>\n",
       "</tr>\n",
       "</table>\n",
       "<table class=\"simpletable\">\n",
       "<tr>\n",
       "  <th>Omnibus:</th>       <td>725.531</td> <th>  Durbin-Watson:     </th> <td>   1.933</td> \n",
       "</tr>\n",
       "<tr>\n",
       "  <th>Prob(Omnibus):</th> <td> 0.000</td>  <th>  Jarque-Bera (JB):  </th> <td>10830.899</td>\n",
       "</tr>\n",
       "<tr>\n",
       "  <th>Skew:</th>          <td>-0.047</td>  <th>  Prob(JB):          </th> <td>    0.00</td> \n",
       "</tr>\n",
       "<tr>\n",
       "  <th>Kurtosis:</th>      <td>10.187</td>  <th>  Cond. No.          </th> <td>    305.</td> \n",
       "</tr>\n",
       "</table><br/><br/>Warnings:<br/>[1] Standard Errors assume that the covariance matrix of the errors is correctly specified."
      ],
      "text/plain": [
       "<class 'statsmodels.iolib.summary.Summary'>\n",
       "\"\"\"\n",
       "                            OLS Regression Results                            \n",
       "==============================================================================\n",
       "Dep. Variable:                      y   R-squared:                       0.900\n",
       "Model:                            OLS   Adj. R-squared:                  0.900\n",
       "Method:                 Least Squares   F-statistic:                     9016.\n",
       "Date:                Sun, 04 Oct 2020   Prob (F-statistic):               0.00\n",
       "Time:                        14:58:53   Log-Likelihood:                 20528.\n",
       "No. Observations:                5031   AIC:                        -4.104e+04\n",
       "Df Residuals:                    5025   BIC:                        -4.100e+04\n",
       "Df Model:                           5                                         \n",
       "Covariance Type:            nonrobust                                         \n",
       "=================================================================================\n",
       "                    coef    std err          t      P>|t|      [0.025      0.975]\n",
       "---------------------------------------------------------------------------------\n",
       "Mkt-RF            0.9361      0.005    180.080      0.000       0.926       0.946\n",
       "Size              0.1192      0.010     11.765      0.000       0.099       0.139\n",
       "Value            -0.3332      0.009    -35.763      0.000      -0.351      -0.315\n",
       "Profitability    -0.1885      0.013    -14.197      0.000      -0.215      -0.162\n",
       "Investment       -0.0974      0.017     -5.827      0.000      -0.130      -0.065\n",
       "RF                0.0002   5.78e-05      2.839      0.005    5.08e-05       0.000\n",
       "==============================================================================\n",
       "Omnibus:                      725.531   Durbin-Watson:                   1.933\n",
       "Prob(Omnibus):                  0.000   Jarque-Bera (JB):            10830.899\n",
       "Skew:                          -0.047   Prob(JB):                         0.00\n",
       "Kurtosis:                      10.187   Cond. No.                         305.\n",
       "==============================================================================\n",
       "\n",
       "Warnings:\n",
       "[1] Standard Errors assume that the covariance matrix of the errors is correctly specified.\n",
       "\"\"\""
      ]
     },
     "execution_count": 333,
     "metadata": {},
     "output_type": "execute_result"
    }
   ],
   "source": [
    "lm = sm.OLS(fund_excess, ff).fit()\n",
    "lm.summary()"
   ]
  },
  {
   "cell_type": "markdown",
   "metadata": {},
   "source": [
    "Based on the size of the variable coefficients, the fund manager has a tilt towards investing in smaller, growth companies that are less profitable and more aggressive in their investments. This matches the style of an investment fund that is targeted at tech stocks.\n",
    "This seems to match the publicly available information on the fund's holdings. E.g. it among its top 10 holdings, there is SEA Ltd and ServiceNow, both of which are currently loss-making start-ups. Its top holding is Amazon, which until the recent years had been heavily loss-making since inception."
   ]
  },
  {
   "cell_type": "code",
   "execution_count": null,
   "metadata": {},
   "outputs": [],
   "source": []
  }
 ],
 "metadata": {
  "kernelspec": {
   "display_name": "Python 3",
   "language": "python",
   "name": "python3"
  },
  "language_info": {
   "codemirror_mode": {
    "name": "ipython",
    "version": 3
   },
   "file_extension": ".py",
   "mimetype": "text/x-python",
   "name": "python",
   "nbconvert_exporter": "python",
   "pygments_lexer": "ipython3",
   "version": "3.7.9"
  }
 },
 "nbformat": 4,
 "nbformat_minor": 4
}
